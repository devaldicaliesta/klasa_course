{
  "nbformat": 4,
  "nbformat_minor": 0,
  "metadata": {
    "colab": {
      "provenance": []
    },
    "kernelspec": {
      "name": "python3",
      "display_name": "Python 3"
    },
    "language_info": {
      "name": "python"
    }
  },
  "cells": [
    {
      "cell_type": "code",
      "execution_count": 3,
      "metadata": {
        "colab": {
          "base_uri": "https://localhost:8080/"
        },
        "id": "TDLLylq6nr3P",
        "outputId": "3d8d58b3-6ea9-401b-bd31-5c60db9fc04f"
      },
      "outputs": [
        {
          "output_type": "stream",
          "name": "stdout",
          "text": [
            "Mean Squared Error: 4973.274832886896\n"
          ]
        }
      ],
      "source": [
        "import numpy as np\n",
        "from sklearn.model_selection import train_test_split\n",
        "from sklearn.linear_model import LinearRegression\n",
        "from sklearn.metrics import mean_squared_error\n",
        "\n",
        "# dataset\n",
        "size = np.array([1400, 1600, 1700, 1875, 1100, 1550, 2350, 2450, 1425, 1700]).reshape(-1, 1)\n",
        "price = np.array([245, 312, 279, 308, 199, 219, 405, 324, 319, 255])\n",
        "\n",
        "#split 8:2\n",
        "size_train, size_test, price_train, price_test = train_test_split(size, price, test_size=0.2, random_state=42)\n",
        "\n",
        "#define model\n",
        "model = LinearRegression()\n",
        "model.fit(size_train, price_train)\n",
        "\n",
        "#test predict\n",
        "price_pred = model.predict(size_test)\n",
        "\n",
        "#get result\n",
        "mse = mean_squared_error(price_test, price_pred)\n",
        "\n",
        "print(\"Mean Squared Error:\", mse)"
      ]
    },
    {
      "cell_type": "code",
      "source": [],
      "metadata": {
        "id": "-9bVEw4Gnvty"
      },
      "execution_count": null,
      "outputs": []
    }
  ]
}